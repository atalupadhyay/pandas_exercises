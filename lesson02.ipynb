{
  "cells": [
    {
      "cell_type": "markdown",
      "metadata": {
        "id": "view-in-github",
        "colab_type": "text"
      },
      "source": [
        "<a href=\"https://colab.research.google.com/github/atalupadhyay/pandas_exercises/blob/master/lesson02.ipynb\" target=\"_parent\"><img src=\"https://colab.research.google.com/assets/colab-badge.svg\" alt=\"Open In Colab\"/></a>"
      ]
    },
    {
      "cell_type": "markdown",
      "source": [
        "## Lesson 2: Mastering Functions & Classes\n",
        "\n",
        "In this lesson, we'll dive into advanced function concepts and Object-Oriented Programming (OOP) principles. We'll explore decorators, lambda functions, recursion, classes, inheritance, polymorphism, and encapsulation.\n",
        "\n",
        "**I've prepared a Jupyter Notebook for you to follow along. You can run this code directly in your Jupyter Notebook environment.**\n",
        "\n",
        "**1. Advanced Functions:**\n",
        "\n",
        "* **Decorators:** Decorators are functions that modify the behavior of other functions."
      ],
      "metadata": {
        "id": "DbVVGF0sRwWk"
      }
    },
    {
      "cell_type": "code",
      "source": [
        "def my_decorator(func):\n",
        "  def wrapper():\n",
        "    print(\"Something before the function is called\")\n",
        "    func()\n",
        "    print(\"Something after the function is called\")\n",
        "  return wrapper\n",
        "\n",
        "@my_decorator\n",
        "def say_hello():\n",
        "  print(\"Hello from the decorated function!\")\n",
        "\n",
        "say_hello()"
      ],
      "outputs": [
        {
          "output_type": "stream",
          "name": "stdout",
          "text": [
            "Something before the function is called\n",
            "Hello from the decorated function!\n",
            "Something after the function is called\n"
          ]
        }
      ],
      "execution_count": 1,
      "metadata": {
        "id": "piEE_9AARwWp",
        "colab": {
          "base_uri": "https://localhost:8080/"
        },
        "outputId": "8e3c9fb6-6ff7-4308-81e6-2247faaa13c9"
      }
    },
    {
      "cell_type": "markdown",
      "source": [
        "**Run this code and observe the output. The decorator adds functionality before and after the original function is called.**\n",
        "\n",
        "* **Lambda Functions:** Lambda functions are small, anonymous functions used for concise code."
      ],
      "metadata": {
        "id": "5NETnnleRwWr"
      }
    },
    {
      "cell_type": "code",
      "source": [
        "add = lambda x, y: x + y\n",
        "\n",
        "result = add(5, 3)\n",
        "print(result)  # Output: 8"
      ],
      "outputs": [],
      "execution_count": null,
      "metadata": {
        "id": "XdIsw4bURwWr"
      }
    },
    {
      "cell_type": "markdown",
      "source": [
        "**Run this code and see how a lambda function can be used for simple calculations.**\n",
        "\n",
        "* **Recursion:** Recursion is a function that calls itself until a base case is reached."
      ],
      "metadata": {
        "id": "Yi_d0ecORwWs"
      }
    },
    {
      "cell_type": "code",
      "source": [
        "def factorial(n):\n",
        "  if n == 0:\n",
        "    return 1\n",
        "  else:\n",
        "    return n * factorial(n-1)\n",
        "\n",
        "print(factorial(5))  # Output: 120"
      ],
      "outputs": [],
      "execution_count": null,
      "metadata": {
        "id": "C8irCcxCRwWt"
      }
    },
    {
      "cell_type": "markdown",
      "source": [
        "**Run this code and understand how recursion calculates factorials.**\n",
        "\n",
        "**2. Classes & Object-Oriented Programming (OOP):**\n",
        "\n",
        "* **Classes:** A class is a blueprint for creating objects. It defines properties (attributes) and functionalities (methods) of objects."
      ],
      "metadata": {
        "id": "P09NQi4PRwWt"
      }
    },
    {
      "cell_type": "code",
      "source": [
        "class Car:\n",
        "  def __init__(self, make, model, year):  # Constructor\n",
        "    self.make = make\n",
        "    self.model = model\n",
        "    self.year = year\n",
        "\n",
        "  def accelerate(self):\n",
        "    print(f\"The {self.make} {self.model} is accelerating!\")\n",
        "\n",
        "my_car = Car(\"Tesla\", \"Model S\", 2024)\n",
        "my_car.accelerate()  # Output: The Tesla Model S is accelerating!"
      ],
      "outputs": [],
      "execution_count": null,
      "metadata": {
        "id": "88Je0pAMRwWu"
      }
    },
    {
      "cell_type": "markdown",
      "source": [
        "**Run this code and see how a class defines attributes and methods for objects.**\n",
        "\n",
        "**Inheritance:** Inheritance allows creating new classes (subclasses) that inherit properties and methods from existing classes (parent classes)."
      ],
      "metadata": {
        "id": "Ps0TfHPtRwWv"
      }
    },
    {
      "cell_type": "code",
      "source": [
        "class ElectricCar(Car):\n",
        "  def __init__(self, make, model, year, battery_range):\n",
        "    super().__init__(make, model, year)  # Call parent constructor\n",
        "    self.battery_range = battery_range\n",
        "\n",
        "  def charge(self):\n",
        "    print(f\"Charging the {self.make} {self.model}...\")\n",
        "\n",
        "my_electric_car = ElectricCar(\"Tesla\", \"Model 3\", 2023, 350)\n",
        "my_electric_car.accelerate()  # Inherited from Car\n",
        "my_electric_car.charge()  # Specific to ElectricCar"
      ],
      "outputs": [],
      "execution_count": null,
      "metadata": {
        "id": "WBFPdTPJRwWv"
      }
    },
    {
      "cell_type": "markdown",
      "source": [
        "**Run this code and observe how inheritance allows for code reuse and specialization.**\n",
        "\n",
        "**Polymorphism:** Polymorphism allows objects of different classes to respond differently to the same method call."
      ],
      "metadata": {
        "id": "6EMBPQNjRwWv"
      }
    },
    {
      "cell_type": "code",
      "source": [
        "def make_noise(animal):\n",
        "  animal.noise()\n",
        "\n",
        "class Dog:\n",
        "  def noise(self):\n",
        "    print(\"Woof!\")\n",
        "\n",
        "class Cat:\n",
        "  def noise(self):\n",
        "\n",
        "    print(\"Meow!\")\n",
        "\n",
        "my_dog = Dog()\n",
        "my_cat = Cat()\n",
        "\n",
        "make_noise(my_dog)  # Output: Woof!\n",
        "make_noise(my_cat)  # Output: Meow!"
      ],
      "outputs": [],
      "execution_count": null,
      "metadata": {
        "id": "-TCNOC9HRwWw"
      }
    },
    {
      "cell_type": "markdown",
      "source": [
        "**Run this code and see how the same `make_noise` method calls different methods based on the object type.**\n",
        "\n",
        "**Encapsulation:** Encapsulation protects data (attributes) by making them private and providing access methods (getters and setters)."
      ],
      "metadata": {
        "id": "DuZJ2yd2RwWw"
      }
    },
    {
      "cell_type": "code",
      "source": [
        "class Person:\n",
        "  def __init__(self, name):\n",
        "    self._name = name  # Private attribute\n",
        "\n",
        "  def get_name(self):\n",
        "    return self._name\n",
        "\n",
        "  def set_name(self, new_name):\n",
        "    self._name = new_name\n",
        "\n",
        "person1 = Person(\"Alice\")\n",
        "print(person1.get_name())  # Output: Alice\n",
        "\n",
        "# Trying to access the private attribute directly results in an error\n",
        "# print(person1._name)"
      ],
      "outputs": [],
      "execution_count": null,
      "metadata": {
        "id": "ebxxirxaRwWw"
      }
    },
    {
      "cell_type": "markdown",
      "source": [
        "**Run this code and understand how encapsulation controls access to data.**\n",
        "\n",
        "**These are just some core concepts of advanced functions"
      ],
      "metadata": {
        "id": "H4ZKB59FRwWx"
      }
    },
    {
      "cell_type": "markdown",
      "source": [
        "<div class=\"md-recitation\">\n",
        "  Sources\n",
        "  <ol>\n",
        "  <li><a href=\"https://github.com/erik-engel/eksamen_python\">https://github.com/erik-engel/eksamen_python</a></li>\n",
        "  </ol>\n",
        "</div>"
      ],
      "metadata": {
        "id": "-ktUzcFzRwWx"
      }
    }
  ],
  "metadata": {
    "colab": {
      "provenance": [],
      "include_colab_link": true
    },
    "kernelspec": {
      "display_name": "Python 3",
      "name": "python3"
    }
  },
  "nbformat": 4,
  "nbformat_minor": 0
}